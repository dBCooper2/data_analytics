{
 "cells": [
  {
   "cell_type": "code",
   "execution_count": 1,
   "id": "ee56ee8d",
   "metadata": {},
   "outputs": [
    {
     "name": "stdout",
     "output_type": "stream",
     "text": [
      "hello\n"
     ]
    }
   ],
   "source": [
    "print('hello')"
   ]
  },
  {
   "cell_type": "code",
   "execution_count": 2,
   "id": "5bec749d",
   "metadata": {},
   "outputs": [
    {
     "name": "stdout",
     "output_type": "stream",
     "text": [
      "H\n",
      "e\n",
      "l\n",
      "l\n",
      "o\n",
      ",\n",
      " \n",
      "J\n",
      "u\n",
      "p\n",
      "y\n",
      "t\n",
      "e\n",
      "r\n"
     ]
    }
   ],
   "source": [
    "for letter in 'Hello, Jupyter':\n",
    "    print(letter)"
   ]
  },
  {
   "cell_type": "markdown",
   "id": "fa67d38a",
   "metadata": {},
   "source": [
    "This is in Markdown, Two Asterisks == **Bold**"
   ]
  },
  {
   "cell_type": "markdown",
   "id": "cf8000fb",
   "metadata": {},
   "source": [
    "Copy/Paste:\n",
    "ESC+C/V/X\n",
    "\n",
    "Delete Cell:\n",
    "Ctrl M, D, D"
   ]
  }
 ],
 "metadata": {
  "kernelspec": {
   "display_name": "Python 3 (ipykernel)",
   "language": "python",
   "name": "python3"
  },
  "language_info": {
   "codemirror_mode": {
    "name": "ipython",
    "version": 3
   },
   "file_extension": ".py",
   "mimetype": "text/x-python",
   "name": "python",
   "nbconvert_exporter": "python",
   "pygments_lexer": "ipython3",
   "version": "3.9.6"
  }
 },
 "nbformat": 4,
 "nbformat_minor": 5
}
